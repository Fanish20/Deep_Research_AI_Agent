{
  "cells": [
    {
      "cell_type": "code",
      "execution_count": null,
      "metadata": {
        "id": "sShgd6DnAIie"
      },
      "outputs": [],
      "source": [
        "\n",
        "from tavily import TavilyClient\n",
        "from langgraph.graph import Graph\n",
        "from langchain.prompts import PromptTemplate\n",
        "from requests.exceptions import HTTPError\n"
      ]
    },
    {
      "cell_type": "code",
      "execution_count": null,
      "metadata": {
        "id": "IE9NA7WvAMFx"
      },
      "outputs": [],
      "source": [
        "#in this step we are going to use our api key(change it with yours)\n",
        "API_KEY = \"tvly-dev\"#use your api key\n",
        "tavily = TavilyClient(api_key=API_KEY)"
      ]
    },
    {
      "cell_type": "code",
      "execution_count": null,
      "metadata": {
        "id": "jaTfPUaRATrB"
      },
      "outputs": [],
      "source": [
        "\n",
        "def research_agent(inputs):\n",
        "    try:\n",
        "        query = inputs[\"query\"]  # Extract the query correctly\n",
        "        print(f\"Sending query to Tavily: {query}\")\n",
        "\n",
        "        response = tavily.search(query=query, max_results=5, search_depth=\"basic\")\n",
        "\n",
        "        if response and 'results' in response:\n",
        "            print(f\"Tavily API response: {response}\")\n",
        "            return {\"data\": response['results']}\n",
        "        else:\n",
        "            print(\"No results found in Tavily API response.\")\n",
        "            return {\"data\": []}\n",
        "    except HTTPError as e:\n",
        "        print(f\"Tavily API error: {e}\")\n",
        "        return {\"data\": []}"
      ]
    },
    {
      "cell_type": "code",
      "execution_count": null,
      "metadata": {
        "id": "JkOl5kuTAWRb"
      },
      "outputs": [],
      "source": [
        "\n",
        "prompt_template = PromptTemplate(\n",
        "    input_variables=[\"data\"],\n",
        "    template=\"Based on the following information, draft a detailed answer:\\n\\n{data}\"\n",
        ")\n"
      ]
    },
    {
      "cell_type": "code",
      "execution_count": null,
      "metadata": {
        "id": "fWiDL3SdAb0k"
      },
      "outputs": [],
      "source": [
        "#  Drafter Agent\n",
        "def answer_drafter_agent(inputs):\n",
        "    data = inputs[\"data\"]\n",
        "    if not data:\n",
        "        return {\"answer\": \"No data available to draft an answer.\"}\n",
        "\n",
        "    \n",
        "    prompt = prompt_template.format(data=data)\n",
        "\n",
        "\n",
        "    answer = \"Here is the information I found:\\n\\n\"\n",
        "    for i, result in enumerate(data, start=1):\n",
        "        answer += f\"{i}. **{result['title']}**\\n\"\n",
        "        answer += f\"   - URL: {result['url']}\\n\"\n",
        "        answer += f\"   - Summary: {result['content']}\\n\\n\"\n",
        "\n",
        "    return {\"answer\": answer}\n"
      ]
    },
    {
      "cell_type": "code",
      "execution_count": null,
      "metadata": {
        "id": "rZ1FOzaIAdEg"
      },
      "outputs": [],
      "source": [
        "# Initialize the Lang graph workflow\n",
        "workflow = Graph()\n",
        "\n",
        "\n",
        "workflow.add_node(\"research\", research_agent)\n",
        "workflow.add_node(\"draft\", answer_drafter_agent)\n",
        "\n",
        "\n",
        "workflow.add_edge(\"research\", \"draft\")\n",
        "\n",
        "\n",
        "workflow.set_entry_point(\"research\")\n",
        "workflow.set_finish_point(\"draft\")\n",
        "\n",
        "compiled_workflow = workflow.compile()\n",
        "\n",
        "\n",
        "def run_workflow(query):\n",
        "    return compiled_workflow.invoke({\"query\": query})"
      ]
    },
    {
      "cell_type": "code",
      "execution_count": 52,
      "metadata": {
        "colab": {
          "base_uri": "https://localhost:8080/"
        },
        "id": "Uz8t3tCrAu4f",
        "outputId": "61c7c981-17fd-4d35-8260-25241d7c9f4c"
      },
      "outputs": [
        {
          "name": "stdout",
          "output_type": "stream",
          "text": [
            "Sending query to Tavily: full form of usa\n",
            "Tavily API response: {'query': 'full form of usa', 'follow_up_questions': None, 'answer': None, 'images': [], 'results': [{'title': 'USA Full Form - What Is Full Form', 'url': 'https://www.whatisfullform.com/usa-full-form/', 'content': 'The FULL FORM of USA is United States of America Its resource is Washington, D.C. It is the fourth-largest country in the world after Russia, Canada, as well as China. It is twice the size of the European Union. The currency of the USA is the United States dollar (USD). It has no official language, however, English is spoken throughout the nation.', 'score': 0.9152729, 'raw_content': None}, {'title': 'What is the full form of USA?', 'url': 'https://fullform.blog/countries/usa-full-form/', 'content': 'USA: United States of America. The full form of USA is \"United States of America\". The United States of America (USA) is a country of North America, a federal republic of 50 states, five major autonomous territories, and several possessions. The United States contains a very diverse population.', 'score': 0.9125066, 'raw_content': None}, {'title': 'Full Form of USA | FullForms', 'url': 'https://fullforms.com/USA', 'content': 'USA stands for United States of America, a federal republic of 50 states and various territories in North America. Find out more about the full forms of USA in different categories and contexts, such as government, business, sports, and academia.', 'score': 0.8974172, 'raw_content': None}, {'title': 'USA Full Form: 3 Key Facts About United States of America - Chegg India', 'url': 'https://www.cheggindia.com/full-forms/usa/', 'content': \"USA full form and Location. The USA Full Form is the United States of America, a North American powerhouse. This country's coordinates are 37.0902° N and 95.7129° W. It has a rich tapestry of landscapes. Spanning over 3.8 million square miles (9.8 million square kilometers), it ranks as the world's 3rd or 4th largest country by area.\", 'score': 0.89501935, 'raw_content': None}, {'title': 'Full Form of US | FullForms', 'url': 'https://fullforms.com/US', 'content': 'What is the full form of US? - United States - The United States of America (USA), also referred to as the United States (U.S or US), is a', 'score': 0.82694983, 'raw_content': None}], 'response_time': 1.6}\n",
            "Here is the information I found:\n",
            "\n",
            "1. **USA Full Form - What Is Full Form**\n",
            "   - URL: https://www.whatisfullform.com/usa-full-form/\n",
            "   - Summary: The FULL FORM of USA is United States of America Its resource is Washington, D.C. It is the fourth-largest country in the world after Russia, Canada, as well as China. It is twice the size of the European Union. The currency of the USA is the United States dollar (USD). It has no official language, however, English is spoken throughout the nation.\n",
            "\n",
            "2. **What is the full form of USA?**\n",
            "   - URL: https://fullform.blog/countries/usa-full-form/\n",
            "   - Summary: USA: United States of America. The full form of USA is \"United States of America\". The United States of America (USA) is a country of North America, a federal republic of 50 states, five major autonomous territories, and several possessions. The United States contains a very diverse population.\n",
            "\n",
            "3. **Full Form of USA | FullForms**\n",
            "   - URL: https://fullforms.com/USA\n",
            "   - Summary: USA stands for United States of America, a federal republic of 50 states and various territories in North America. Find out more about the full forms of USA in different categories and contexts, such as government, business, sports, and academia.\n",
            "\n",
            "4. **USA Full Form: 3 Key Facts About United States of America - Chegg India**\n",
            "   - URL: https://www.cheggindia.com/full-forms/usa/\n",
            "   - Summary: USA full form and Location. The USA Full Form is the United States of America, a North American powerhouse. This country's coordinates are 37.0902° N and 95.7129° W. It has a rich tapestry of landscapes. Spanning over 3.8 million square miles (9.8 million square kilometers), it ranks as the world's 3rd or 4th largest country by area.\n",
            "\n",
            "5. **Full Form of US | FullForms**\n",
            "   - URL: https://fullforms.com/US\n",
            "   - Summary: What is the full form of US? - United States - The United States of America (USA), also referred to as the United States (U.S or US), is a\n",
            "\n",
            "\n"
          ]
        }
      ],
      "source": [
        "# Main Execution\n",
        "if __name__ == \"__main__\":\n",
        "    query = \"full form of usa\"\n",
        "    final_answer = run_workflow(query)\n",
        "    print(final_answer[\"answer\"])"
      ]
    }
  ],
  "metadata": {
    "colab": {
      "provenance": []
    },
    "kernelspec": {
      "display_name": "Python 3",
      "name": "python3"
    },
    "language_info": {
      "name": "python"
    }
  },
  "nbformat": 4,
  "nbformat_minor": 0
}
